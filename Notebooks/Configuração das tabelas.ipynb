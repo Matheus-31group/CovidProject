{
 "cells": [
  {
   "cell_type": "markdown",
   "metadata": {
    "application/vnd.databricks.v1+cell": {
     "cellMetadata": {},
     "inputWidgets": {},
     "nuid": "96816ed7-b08a-4ca3-abb9-f99880c3535d",
     "showTitle": false,
     "title": ""
    }
   },
   "source": [
    "\n",
    "## Criação e configuração de tabelas para acesso"
   ]
  },
  {
   "cell_type": "code",
   "execution_count": 0,
   "metadata": {
    "application/vnd.databricks.v1+cell": {
     "cellMetadata": {
      "byteLimit": 2048000,
      "rowLimit": 10000
     },
     "inputWidgets": {},
     "nuid": "3d1cfcf3-baf7-411a-a8d0-f02f2cb9a7f6",
     "showTitle": false,
     "title": ""
    }
   },
   "outputs": [],
   "source": [
    "# Caminho da camada Gold\n",
    "gold_directory = \"/covid/gold\"\n",
    "\n",
    "# Ler os dados da camada Gold\n",
    "df_gold = spark.read.format(\"delta\").load(gold_directory)"
   ]
  },
  {
   "cell_type": "code",
   "execution_count": 0,
   "metadata": {
    "application/vnd.databricks.v1+cell": {
     "cellMetadata": {
      "byteLimit": 2048000,
      "implicitDf": true,
      "rowLimit": 10000
     },
     "inputWidgets": {},
     "nuid": "6486e020-26a1-485c-bf2e-01e7f3ae9b85",
     "showTitle": false,
     "title": ""
    }
   },
   "outputs": [
    {
     "output_type": "display_data",
     "data": {
      "text/html": [
       "<style scoped>\n",
       "  .table-result-container {\n",
       "    max-height: 300px;\n",
       "    overflow: auto;\n",
       "  }\n",
       "  table, th, td {\n",
       "    border: 1px solid black;\n",
       "    border-collapse: collapse;\n",
       "  }\n",
       "  th, td {\n",
       "    padding: 5px;\n",
       "  }\n",
       "  th {\n",
       "    text-align: left;\n",
       "  }\n",
       "</style><div class='table-result-container'><table class='table-result'><thead style='background-color: white'><tr><th>databaseName</th></tr></thead><tbody><tr><td>default</td></tr></tbody></table></div>"
      ]
     },
     "metadata": {
      "application/vnd.databricks.v1+output": {
       "addedWidgets": {},
       "aggData": [],
       "aggError": "",
       "aggOverflow": false,
       "aggSchema": [],
       "aggSeriesLimitReached": false,
       "aggType": "",
       "arguments": {},
       "columnCustomDisplayInfos": {},
       "data": [
        [
         "default"
        ]
       ],
       "datasetInfos": [],
       "dbfsResultPath": null,
       "isJsonSchema": true,
       "metadata": {},
       "overflow": false,
       "plotOptions": {
        "customPlotOptions": {},
        "displayType": "table",
        "pivotAggregation": null,
        "pivotColumns": null,
        "xColumns": null,
        "yColumns": null
       },
       "removedWidgets": [],
       "schema": [
        {
         "metadata": "{}",
         "name": "databaseName",
         "type": "\"string\""
        }
       ],
       "type": "table"
      }
     },
     "output_type": "display_data"
    }
   ],
   "source": [
    "%sql\n",
    "\n",
    "-- Visualizando as databases\n",
    "SHOW DATABASES;"
   ]
  },
  {
   "cell_type": "code",
   "execution_count": 0,
   "metadata": {
    "application/vnd.databricks.v1+cell": {
     "cellMetadata": {
      "byteLimit": 2048000,
      "rowLimit": 10000
     },
     "inputWidgets": {},
     "nuid": "5f958fe1-84dd-4da8-bf5a-336d0d2f88cf",
     "showTitle": false,
     "title": ""
    }
   },
   "outputs": [
    {
     "output_type": "stream",
     "name": "stdout",
     "output_type": "stream",
     "text": [
      "root\n |-- location_key: string (nullable = true)\n |-- date: date (nullable = true)\n |-- daily_new_cases: integer (nullable = true)\n |-- daily_new_deaths: integer (nullable = true)\n |-- total_confirmed_cases: integer (nullable = true)\n |-- total_confirmed_deaths: integer (nullable = true)\n |-- average_temperature_celsius: double (nullable = true)\n |-- minimum_temperature_celsius: double (nullable = true)\n |-- maximum_temperature_celsius: double (nullable = true)\n |-- rainfall_mm: double (nullable = true)\n |-- dew_point: double (nullable = true)\n |-- relative_humidity: double (nullable = true)\n |-- area_sq_km: integer (nullable = true)\n |-- country_name: string (nullable = true)\n |-- subregion1_name: string (nullable = true)\n |-- subregion2_name: string (nullable = true)\n |-- aggregation_level: integer (nullable = true)\n |-- population: integer (nullable = true)\n |-- year: integer (nullable = true)\n\n"
     ]
    }
   ],
   "source": [
    "# Verificando a estrutura da tabela Delta\n",
    "df = spark.read.format(\"delta\").load(\"dbfs:/covid/gold\")\n",
    "df.printSchema()\n"
   ]
  },
  {
   "cell_type": "code",
   "execution_count": 0,
   "metadata": {
    "application/vnd.databricks.v1+cell": {
     "cellMetadata": {
      "byteLimit": 2048000,
      "implicitDf": true,
      "rowLimit": 10000
     },
     "inputWidgets": {},
     "nuid": "52617606-c070-4616-b1e3-0b929d9d9d1b",
     "showTitle": false,
     "title": ""
    }
   },
   "outputs": [
    {
     "output_type": "display_data",
     "data": {
      "text/html": [
       "<style scoped>\n",
       "  .table-result-container {\n",
       "    max-height: 300px;\n",
       "    overflow: auto;\n",
       "  }\n",
       "  table, th, td {\n",
       "    border: 1px solid black;\n",
       "    border-collapse: collapse;\n",
       "  }\n",
       "  th, td {\n",
       "    padding: 5px;\n",
       "  }\n",
       "  th {\n",
       "    text-align: left;\n",
       "  }\n",
       "</style><div class='table-result-container'><table class='table-result'><thead style='background-color: white'><tr></tr></thead><tbody></tbody></table></div>"
      ]
     },
     "metadata": {
      "application/vnd.databricks.v1+output": {
       "addedWidgets": {},
       "aggData": [],
       "aggError": "",
       "aggOverflow": false,
       "aggSchema": [],
       "aggSeriesLimitReached": false,
       "aggType": "",
       "arguments": {},
       "columnCustomDisplayInfos": {},
       "data": [],
       "datasetInfos": [],
       "dbfsResultPath": null,
       "isJsonSchema": true,
       "metadata": {},
       "overflow": false,
       "plotOptions": {
        "customPlotOptions": {},
        "displayType": "table",
        "pivotAggregation": null,
        "pivotColumns": null,
        "xColumns": null,
        "yColumns": null
       },
       "removedWidgets": [],
       "schema": [],
       "type": "table"
      }
     },
     "output_type": "display_data"
    }
   ],
   "source": [
    "%sql\n",
    "\n",
    "-- Criação da database covid\n",
    "CREATE DATABASE IF NOT EXISTS covid;\n"
   ]
  },
  {
   "cell_type": "code",
   "execution_count": 0,
   "metadata": {
    "application/vnd.databricks.v1+cell": {
     "cellMetadata": {
      "byteLimit": 2048000,
      "implicitDf": true,
      "rowLimit": 10000
     },
     "inputWidgets": {},
     "nuid": "e064f6da-bc96-4fe8-bc2c-c11106671f9b",
     "showTitle": false,
     "title": ""
    }
   },
   "outputs": [
    {
     "output_type": "display_data",
     "data": {
      "text/html": [
       "<style scoped>\n",
       "  .table-result-container {\n",
       "    max-height: 300px;\n",
       "    overflow: auto;\n",
       "  }\n",
       "  table, th, td {\n",
       "    border: 1px solid black;\n",
       "    border-collapse: collapse;\n",
       "  }\n",
       "  th, td {\n",
       "    padding: 5px;\n",
       "  }\n",
       "  th {\n",
       "    text-align: left;\n",
       "  }\n",
       "</style><div class='table-result-container'><table class='table-result'><thead style='background-color: white'><tr></tr></thead><tbody></tbody></table></div>"
      ]
     },
     "metadata": {
      "application/vnd.databricks.v1+output": {
       "addedWidgets": {},
       "aggData": [],
       "aggError": "",
       "aggOverflow": false,
       "aggSchema": [],
       "aggSeriesLimitReached": false,
       "aggType": "",
       "arguments": {},
       "columnCustomDisplayInfos": {},
       "data": [],
       "datasetInfos": [],
       "dbfsResultPath": null,
       "isJsonSchema": true,
       "metadata": {},
       "overflow": false,
       "plotOptions": {
        "customPlotOptions": {},
        "displayType": "table",
        "pivotAggregation": null,
        "pivotColumns": null,
        "xColumns": null,
        "yColumns": null
       },
       "removedWidgets": [],
       "schema": [],
       "type": "table"
      }
     },
     "output_type": "display_data"
    }
   ],
   "source": [
    "%sql\n",
    "\n",
    "-- Criação da tabela 'covid_data' para armazenamento dos dados gold\n",
    "CREATE TABLE IF NOT EXISTS covid.covid_data\n",
    "USING DELTA\n",
    "LOCATION 'dbfs:/covid/gold';"
   ]
  },
  {
   "cell_type": "code",
   "execution_count": 0,
   "metadata": {
    "application/vnd.databricks.v1+cell": {
     "cellMetadata": {
      "byteLimit": 2048000,
      "implicitDf": true,
      "rowLimit": 10000
     },
     "inputWidgets": {},
     "nuid": "7de8912b-3f2b-4f32-90bf-5e91fb299a11",
     "showTitle": false,
     "title": ""
    }
   },
   "outputs": [
    {
     "output_type": "display_data",
     "data": {
      "text/html": [
       "<style scoped>\n",
       "  .table-result-container {\n",
       "    max-height: 300px;\n",
       "    overflow: auto;\n",
       "  }\n",
       "  table, th, td {\n",
       "    border: 1px solid black;\n",
       "    border-collapse: collapse;\n",
       "  }\n",
       "  th, td {\n",
       "    padding: 5px;\n",
       "  }\n",
       "  th {\n",
       "    text-align: left;\n",
       "  }\n",
       "</style><div class='table-result-container'><table class='table-result'><thead style='background-color: white'><tr><th>database</th><th>tableName</th><th>isTemporary</th></tr></thead><tbody><tr><td>covid</td><td>covid_data</td><td>false</td></tr></tbody></table></div>"
      ]
     },
     "metadata": {
      "application/vnd.databricks.v1+output": {
       "addedWidgets": {},
       "aggData": [],
       "aggError": "",
       "aggOverflow": false,
       "aggSchema": [],
       "aggSeriesLimitReached": false,
       "aggType": "",
       "arguments": {},
       "columnCustomDisplayInfos": {},
       "data": [
        [
         "covid",
         "covid_data",
         false
        ]
       ],
       "datasetInfos": [],
       "dbfsResultPath": null,
       "isJsonSchema": true,
       "metadata": {},
       "overflow": false,
       "plotOptions": {
        "customPlotOptions": {},
        "displayType": "table",
        "pivotAggregation": null,
        "pivotColumns": null,
        "xColumns": null,
        "yColumns": null
       },
       "removedWidgets": [],
       "schema": [
        {
         "metadata": "{}",
         "name": "database",
         "type": "\"string\""
        },
        {
         "metadata": "{}",
         "name": "tableName",
         "type": "\"string\""
        },
        {
         "metadata": "{}",
         "name": "isTemporary",
         "type": "\"boolean\""
        }
       ],
       "type": "table"
      }
     },
     "output_type": "display_data"
    }
   ],
   "source": [
    "%sql\n",
    "\n",
    "-- Seleção da database e visualização das tabelas\n",
    "USE covid;\n",
    "SHOW TABLES;"
   ]
  },
  {
   "cell_type": "code",
   "execution_count": 0,
   "metadata": {
    "application/vnd.databricks.v1+cell": {
     "cellMetadata": {
      "byteLimit": 2048000,
      "implicitDf": true,
      "rowLimit": 10000
     },
     "inputWidgets": {},
     "nuid": "56804bc0-00aa-4d54-b23a-6815004eefa9",
     "showTitle": false,
     "title": ""
    }
   },
   "outputs": [
    {
     "output_type": "display_data",
     "data": {
      "text/html": [
       "<style scoped>\n",
       "  .table-result-container {\n",
       "    max-height: 300px;\n",
       "    overflow: auto;\n",
       "  }\n",
       "  table, th, td {\n",
       "    border: 1px solid black;\n",
       "    border-collapse: collapse;\n",
       "  }\n",
       "  th, td {\n",
       "    padding: 5px;\n",
       "  }\n",
       "  th {\n",
       "    text-align: left;\n",
       "  }\n",
       "</style><div class='table-result-container'><table class='table-result'><thead style='background-color: white'><tr><th>location_key</th><th>date</th><th>daily_new_cases</th><th>daily_new_deaths</th><th>total_confirmed_cases</th><th>total_confirmed_deaths</th><th>average_temperature_celsius</th><th>minimum_temperature_celsius</th><th>maximum_temperature_celsius</th><th>rainfall_mm</th><th>dew_point</th><th>relative_humidity</th><th>area_sq_km</th><th>country_name</th><th>subregion1_name</th><th>subregion2_name</th><th>aggregation_level</th><th>population</th><th>year</th></tr></thead><tbody><tr><td>PT_18</td><td>2020-07-09</td><td>11</td><td>0</td><td>562</td><td>18</td><td>null</td><td>null</td><td>null</td><td>null</td><td>null</td><td>null</td><td>null</td><td>Portugal</td><td>Alentejo</td><td>null</td><td>1</td><td>705478</td><td>2020</td></tr><tr><td>MX_OAX_20236</td><td>2020-07-29</td><td>null</td><td>null</td><td>null</td><td>null</td><td>null</td><td>null</td><td>null</td><td>null</td><td>null</td><td>null</td><td>null</td><td>Mexico</td><td>Oaxaca</td><td>San Marcial Ozolotepec</td><td>2</td><td>1525</td><td>2020</td></tr><tr><td>SD_DN</td><td>2020-10-11</td><td>0</td><td>null</td><td>146</td><td>null</td><td>null</td><td>null</td><td>null</td><td>null</td><td>null</td><td>null</td><td>296420</td><td>Sudan</td><td>North Darfur</td><td>null</td><td>1</td><td>1583179</td><td>2020</td></tr><tr><td>SD_GD</td><td>2020-10-11</td><td>0</td><td>null</td><td>274</td><td>null</td><td>null</td><td>null</td><td>null</td><td>null</td><td>null</td><td>null</td><td>75263</td><td>Sudan</td><td>Al Qadarif</td><td>null</td><td>1</td><td>null</td><td>2020</td></tr><tr><td>SD_KA</td><td>2020-10-11</td><td>1</td><td>null</td><td>228</td><td>null</td><td>null</td><td>null</td><td>null</td><td>null</td><td>null</td><td>null</td><td>36710</td><td>Sudan</td><td>Kassala</td><td>null</td><td>1</td><td>null</td><td>2020</td></tr></tbody></table></div>"
      ]
     },
     "metadata": {
      "application/vnd.databricks.v1+output": {
       "addedWidgets": {},
       "aggData": [],
       "aggError": "",
       "aggOverflow": false,
       "aggSchema": [],
       "aggSeriesLimitReached": false,
       "aggType": "",
       "arguments": {},
       "columnCustomDisplayInfos": {},
       "data": [
        [
         "PT_18",
         "2020-07-09",
         11,
         0,
         562,
         18,
         null,
         null,
         null,
         null,
         null,
         null,
         null,
         "Portugal",
         "Alentejo",
         null,
         1,
         705478,
         2020
        ],
        [
         "MX_OAX_20236",
         "2020-07-29",
         null,
         null,
         null,
         null,
         null,
         null,
         null,
         null,
         null,
         null,
         null,
         "Mexico",
         "Oaxaca",
         "San Marcial Ozolotepec",
         2,
         1525,
         2020
        ],
        [
         "SD_DN",
         "2020-10-11",
         0,
         null,
         146,
         null,
         null,
         null,
         null,
         null,
         null,
         null,
         296420,
         "Sudan",
         "North Darfur",
         null,
         1,
         1583179,
         2020
        ],
        [
         "SD_GD",
         "2020-10-11",
         0,
         null,
         274,
         null,
         null,
         null,
         null,
         null,
         null,
         null,
         75263,
         "Sudan",
         "Al Qadarif",
         null,
         1,
         null,
         2020
        ],
        [
         "SD_KA",
         "2020-10-11",
         1,
         null,
         228,
         null,
         null,
         null,
         null,
         null,
         null,
         null,
         36710,
         "Sudan",
         "Kassala",
         null,
         1,
         null,
         2020
        ]
       ],
       "datasetInfos": [],
       "dbfsResultPath": null,
       "isJsonSchema": true,
       "metadata": {},
       "overflow": false,
       "plotOptions": {
        "customPlotOptions": {},
        "displayType": "table",
        "pivotAggregation": null,
        "pivotColumns": null,
        "xColumns": null,
        "yColumns": null
       },
       "removedWidgets": [],
       "schema": [
        {
         "metadata": "{}",
         "name": "location_key",
         "type": "\"string\""
        },
        {
         "metadata": "{\"__detected_date_formats\":\"yyyy-M-d\"}",
         "name": "date",
         "type": "\"date\""
        },
        {
         "metadata": "{}",
         "name": "daily_new_cases",
         "type": "\"integer\""
        },
        {
         "metadata": "{}",
         "name": "daily_new_deaths",
         "type": "\"integer\""
        },
        {
         "metadata": "{}",
         "name": "total_confirmed_cases",
         "type": "\"integer\""
        },
        {
         "metadata": "{}",
         "name": "total_confirmed_deaths",
         "type": "\"integer\""
        },
        {
         "metadata": "{}",
         "name": "average_temperature_celsius",
         "type": "\"double\""
        },
        {
         "metadata": "{}",
         "name": "minimum_temperature_celsius",
         "type": "\"double\""
        },
        {
         "metadata": "{}",
         "name": "maximum_temperature_celsius",
         "type": "\"double\""
        },
        {
         "metadata": "{}",
         "name": "rainfall_mm",
         "type": "\"double\""
        },
        {
         "metadata": "{}",
         "name": "dew_point",
         "type": "\"double\""
        },
        {
         "metadata": "{}",
         "name": "relative_humidity",
         "type": "\"double\""
        },
        {
         "metadata": "{}",
         "name": "area_sq_km",
         "type": "\"integer\""
        },
        {
         "metadata": "{}",
         "name": "country_name",
         "type": "\"string\""
        },
        {
         "metadata": "{}",
         "name": "subregion1_name",
         "type": "\"string\""
        },
        {
         "metadata": "{}",
         "name": "subregion2_name",
         "type": "\"string\""
        },
        {
         "metadata": "{}",
         "name": "aggregation_level",
         "type": "\"integer\""
        },
        {
         "metadata": "{}",
         "name": "population",
         "type": "\"integer\""
        },
        {
         "metadata": "{}",
         "name": "year",
         "type": "\"integer\""
        }
       ],
       "type": "table"
      }
     },
     "output_type": "display_data"
    }
   ],
   "source": [
    "%sql\n",
    "\n",
    "-- Visualizando as 5 primeiras entradas\n",
    "SELECT * FROM covid_data LIMIT 5;"
   ]
  }
 ],
 "metadata": {
  "application/vnd.databricks.v1+notebook": {
   "dashboards": [],
   "environmentMetadata": null,
   "language": "python",
   "notebookMetadata": {
    "mostRecentlyExecutedCommandWithImplicitDF": {
     "commandId": 4275881984086977,
     "dataframes": [
      "_sqldf"
     ]
    },
    "pythonIndentUnit": 4
   },
   "notebookName": "Configuração das tabelas",
   "widgets": {}
  }
 },
 "nbformat": 4,
 "nbformat_minor": 0
}
