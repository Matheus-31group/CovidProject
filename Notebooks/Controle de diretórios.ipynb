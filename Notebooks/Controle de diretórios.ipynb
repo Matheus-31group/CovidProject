{
 "cells": [
  {
   "cell_type": "markdown",
   "metadata": {
    "application/vnd.databricks.v1+cell": {
     "cellMetadata": {
      "byteLimit": 2048000,
      "rowLimit": 10000
     },
     "inputWidgets": {},
     "nuid": "fe6279e5-728f-44b4-8830-36e202d31341",
     "showTitle": false,
     "title": ""
    }
   },
   "source": [
    "### Configuração dos Diretórios de Dados - Arquitetura Medallion\n",
    "\n",
    "Este notebook cria e organiza os diretórios necessários para armazenar os dados do projeto em camadas Bronze, Silver e Gold."
   ]
  },
  {
   "cell_type": "code",
   "execution_count": 0,
   "metadata": {
    "application/vnd.databricks.v1+cell": {
     "cellMetadata": {
      "byteLimit": 2048000,
      "rowLimit": 10000
     },
     "inputWidgets": {},
     "nuid": "acd1c899-803a-48a9-9f8a-e122f336c5ce",
     "showTitle": false,
     "title": ""
    }
   },
   "outputs": [],
   "source": [
    "# 1. Definir o Caminho Base do Data Lake\n",
    "# Definir o caminho base no DBFS onde os dados serão armazenados\n",
    "base_path = \"/covid\""
   ]
  },
  {
   "cell_type": "code",
   "execution_count": 0,
   "metadata": {
    "application/vnd.databricks.v1+cell": {
     "cellMetadata": {
      "byteLimit": 2048000,
      "rowLimit": 10000
     },
     "inputWidgets": {},
     "nuid": "065a82f7-fc1c-4b34-94c4-bd8b85865c9c",
     "showTitle": false,
     "title": ""
    }
   },
   "outputs": [],
   "source": [
    "# 2. Definir Diretórios Necessários para as Camadas Bronze, Silver, e Gold\n",
    "# Diretório da Camada Bronze: Armazena dados brutos\n",
    "bronze_directory = f\"{base_path}/bronze/\""
   ]
  },
  {
   "cell_type": "code",
   "execution_count": 0,
   "metadata": {
    "application/vnd.databricks.v1+cell": {
     "cellMetadata": {
      "byteLimit": 2048000,
      "rowLimit": 10000
     },
     "inputWidgets": {},
     "nuid": "6a7a2bcb-327a-43ee-804b-589361771d28",
     "showTitle": false,
     "title": ""
    }
   },
   "outputs": [],
   "source": [
    "# Diretório da Camada Silver: Dados limpos e transformados\n",
    "silver_directory = f\"{base_path}/silver\""
   ]
  },
  {
   "cell_type": "code",
   "execution_count": 0,
   "metadata": {
    "application/vnd.databricks.v1+cell": {
     "cellMetadata": {
      "byteLimit": 2048000,
      "rowLimit": 10000
     },
     "inputWidgets": {},
     "nuid": "4b660aca-2fc7-4e64-ac3d-d63eafd6355f",
     "showTitle": false,
     "title": ""
    }
   },
   "outputs": [],
   "source": [
    "# Diretório da Camada Gold: Dados prontos para consumo, otimizados\n",
    "gold_directory = f\"{base_path}/gold\""
   ]
  },
  {
   "cell_type": "code",
   "execution_count": 0,
   "metadata": {
    "application/vnd.databricks.v1+cell": {
     "cellMetadata": {
      "byteLimit": 2048000,
      "rowLimit": 10000
     },
     "inputWidgets": {},
     "nuid": "9cdb03cc-9516-451f-896a-6bd52be75caa",
     "showTitle": false,
     "title": ""
    }
   },
   "outputs": [
    {
     "output_type": "stream",
     "name": "stdout",
     "output_type": "stream",
     "text": [
      "Out[5]: True"
     ]
    }
   ],
   "source": [
    "# 3. Criar os Diretórios no DBFS\n",
    "# Criação dos diretórios principais da arquitetura Medallion\n",
    "dbutils.fs.mkdirs(bronze_directory)\n",
    "dbutils.fs.mkdirs(silver_directory)\n",
    "dbutils.fs.mkdirs(gold_directory)"
   ]
  },
  {
   "cell_type": "code",
   "execution_count": 0,
   "metadata": {
    "application/vnd.databricks.v1+cell": {
     "cellMetadata": {
      "byteLimit": 2048000,
      "rowLimit": 10000
     },
     "inputWidgets": {},
     "nuid": "e26ebad3-de51-4275-b286-268063efb52b",
     "showTitle": false,
     "title": ""
    }
   },
   "outputs": [
    {
     "output_type": "stream",
     "name": "stdout",
     "output_type": "stream",
     "text": [
      "Diretórios Criados para a Arquitetura Medallion:\nCamada Bronze: /covid/bronze/\nCamada Silver: /covid/silver\nCamada Gold: /covid/gold\n"
     ]
    }
   ],
   "source": [
    "# 4. Documentação dos Diretórios Criados\n",
    "# Exibir e documentar os diretórios criados para referência futura\n",
    "print(\"Diretórios Criados para a Arquitetura Medallion:\")\n",
    "print(f\"Camada Bronze: {bronze_directory}\")\n",
    "print(f\"Camada Silver: {silver_directory}\")\n",
    "print(f\"Camada Gold: {gold_directory}\")"
   ]
  }
 ],
 "metadata": {
  "application/vnd.databricks.v1+notebook": {
   "dashboards": [],
   "environmentMetadata": null,
   "language": "python",
   "notebookMetadata": {
    "pythonIndentUnit": 4
   },
   "notebookName": "Directory Control",
   "widgets": {}
  }
 },
 "nbformat": 4,
 "nbformat_minor": 0
}
