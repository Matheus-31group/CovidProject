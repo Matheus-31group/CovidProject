{
 "cells": [
  {
   "cell_type": "markdown",
   "metadata": {
    "application/vnd.databricks.v1+cell": {
     "cellMetadata": {
      "byteLimit": 2048000,
      "rowLimit": 10000
     },
     "inputWidgets": {},
     "nuid": "6b110176-89a6-4d2c-a03c-082bbd9ce262",
     "showTitle": false,
     "title": ""
    }
   },
   "source": [
    "#### Implementação de Medidas de Segurança\n",
    "\n",
    "\n",
    "##### 01. Segurança durante o Processo de ETL\n",
    "\n",
    "1. **Criptografia de Dados em Trânsito**:\n",
    "   - **Alternativa**: Utilizar TLS/SSL para proteger os dados enquanto são transferidos de fontes públicas para o Databricks, quando se aplicar.\n",
    "   - **Justificativa**: Garante que dados sensíveis sejam protegidos contra interceptações durante a comunicação.\n",
    "\n",
    "2. **Autenticação e Autorização**:\n",
    "   - **Alternativa**: Utilizar tokens de autenticação ou API keys para garantir que apenas usuários ou sistemas autorizados possam extrair os dados.\n",
    "   - **Justificativa**: Controla o acesso desde a extração, minimizando riscos de acesso não autorizado.\n",
    "\n",
    "3. **Logging e Auditoria**:\n",
    "   - **Alternativa**: Implementar logs detalhados durante o processo de ETL para registrar operações de leitura, transformação e carregamento.\n",
    "   - **Justificativa**: Permitem auditoria para detectar atividades suspeitas ou não autorizadas.\n",
    "\n",
    "\n",
    "\n",
    "##### 02. Segurança dos Dados Armazenados na Plataforma Databricks\n",
    "\n",
    "1. **Criptografia de Dados em Repouso**:\n",
    "   - **Alternativa**: Utilize criptografia de dados em repouso nativa do Databricks ou via serviços de gerenciamento de chaves (KMS) fornecidos pelo provedor de nuvem.\n",
    "   - **Justificativa**: Protege os dados contra acessos indevidos, mesmo em caso de violação do armazenamento físico.\n",
    "\n",
    "2. **Controle de Acesso Baseado nos Papéis**:\n",
    "   - **Alternativa**: Configurar permissões de acesso a dados e notebooks no Databricks com base nos papéis ou funções de cada usuário.\n",
    "   - **Justificativa**: Garante que apenas usuários com as permissões adequadas possam acessar ou modificar os dados.\n",
    "\n",
    "3. **Tokenization e Anonymization**:\n",
    "   - **Alternativa**: Considerar técnicas de anonimização para dados sensíveis antes de armazená-los no Databricks.\n",
    "   - **Justificativa**: Reduz o risco de exposição de dados pessoais ou sensíveis.\n",
    "\n"
   ]
  }
 ],
 "metadata": {
  "application/vnd.databricks.v1+notebook": {
   "dashboards": [],
   "environmentMetadata": null,
   "language": "python",
   "notebookMetadata": {
    "pythonIndentUnit": 4
   },
   "notebookName": "Implementação de medidas de segurança",
   "widgets": {}
  },
  "language_info": {
   "name": "python"
  }
 },
 "nbformat": 4,
 "nbformat_minor": 0
}
